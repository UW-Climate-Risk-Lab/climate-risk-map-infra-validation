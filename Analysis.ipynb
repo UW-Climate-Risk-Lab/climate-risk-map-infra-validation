{
 "cells": [
  {
   "cell_type": "code",
   "execution_count": 1,
   "id": "b36f5518-3c33-4f1f-8233-02b6e8889f30",
   "metadata": {},
   "outputs": [],
   "source": [
    "# do pip install with version ==\n",
    "import geopandas as gpd \n",
    "import pandas as pd\n",
    "import duckdb as dd"
   ]
  },
  {
   "cell_type": "code",
   "execution_count": 2,
   "id": "e77961ba-d30f-4981-b5e3-fd7383a96dc8",
   "metadata": {
    "scrolled": true
   },
   "outputs": [
    {
     "name": "stdout",
     "output_type": "stream",
     "text": [
      "  STATEFP COUNTYFP  COUNTYNS        AFFGEOID  GEOID           NAME LSAD  \\\n",
      "0      06      075  00277302  0500000US06075  06075  San Francisco   06   \n",
      "1      25      025  00606939  0500000US25025  25025        Suffolk   06   \n",
      "2      31      007  00835826  0500000US31007  31007         Banner   06   \n",
      "3      37      181  01008591  0500000US37181  37181          Vance   06   \n",
      "4      48      421  01383996  0500000US48421  48421        Sherman   06   \n",
      "\n",
      "        ALAND     AWATER                                           geometry  \n",
      "0   121485107  479107241  POLYGON ((-122.51198 37.77113, -122.4654 37.80...  \n",
      "1   150855462  160479920  POLYGON ((-71.19116 42.28306, -71.15689 42.330...  \n",
      "2  1932676697     397069  POLYGON ((-104.05283 41.69795, -103.37039 41.6...  \n",
      "3   653705784   42187365  POLYGON ((-78.49778 36.51448, -78.45728 36.541...  \n",
      "4  2390651189     428754  POLYGON ((-102.16246 36.50033, -102.03234 36.5...  \n"
     ]
    }
   ],
   "source": [
    "# get countis\n",
    "counties_url = \"https://gist.githubusercontent.com/sdwfrost/d1c73f91dd9d175998ed166eb216994a/raw/e89c35f308cee7e2e5a784e1d3afc5d449e9e4bb/counties.geojson\"\n",
    "df_counties = gpd.read_file(counties_url)\n",
    "\n",
    "print(df_counties.head(5))\n"
   ]
  },
  {
   "cell_type": "code",
   "execution_count": 3,
   "id": "620518eb-6fc1-4104-9241-2f55e0726353",
   "metadata": {},
   "outputs": [
    {
     "name": "stdout",
     "output_type": "stream",
     "text": [
      "   OBJECTID  Plant_Code                       Plant_Name  Utility_ID  \\\n",
      "0     35906          99                     Frederickson       15500   \n",
      "1     36055         371      Columbia Generating Station       20160   \n",
      "2     36178         550  Kettle Falls Generating Station       20169   \n",
      "3     36204         607                         Fredonia       15500   \n",
      "4     36212         622                  South Fork Tolt       16868   \n",
      "\n",
      "             Utility_Name       sector_name               Street_Address  \\\n",
      "0  Puget Sound Energy Inc  Electric Utility           4714 192nd St East   \n",
      "1        Energy Northwest  Electric Utility        76 N Power Plant Loop   \n",
      "2             Avista Corp  Electric Utility             1151 Hyw. 395 N.   \n",
      "3  Puget Sound Energy Inc  Electric Utility              13085 Ball Road   \n",
      "4  City of Seattle - (WA)  Electric Utility  20030 Cedar Falls Road S.E.   \n",
      "\n",
      "           City   County       State  ...  Nuclear_MW Crude_MW Solar_MW  \\\n",
      "0        Tacoma   Pierce  Washington  ...         NaN      NaN      NaN   \n",
      "1      Richland   Benton  Washington  ...      1151.0      NaN      NaN   \n",
      "2  Kettle Falls  Stevens  Washington  ...         NaN      NaN      NaN   \n",
      "3     Mt Vernon   Skagit  Washington  ...         NaN      NaN      NaN   \n",
      "4    North Bend     King  Washington  ...         NaN      NaN      NaN   \n",
      "\n",
      "  Wind_MW  Other_MW                         Source  Period   Longitude  \\\n",
      "0     NaN       NaN  EIA-860, EIA-860M and EIA-923  202406 -122.365000   \n",
      "1     NaN       NaN  EIA-860, EIA-860M and EIA-923  202406 -119.333900   \n",
      "2     NaN       NaN  EIA-860, EIA-860M and EIA-923  202406 -118.111059   \n",
      "3     NaN       NaN  EIA-860, EIA-860M and EIA-923  202406 -122.435800   \n",
      "4     NaN       NaN  EIA-860, EIA-860M and EIA-923  202406 -121.783333   \n",
      "\n",
      "    Latitude                     geometry  \n",
      "0  47.079722    POINT (-122.365 47.07972)  \n",
      "1  46.471100    POINT (-119.3339 46.4711)  \n",
      "2  48.620336  POINT (-118.11106 48.62034)  \n",
      "3  48.455800    POINT (-122.4358 48.4558)  \n",
      "4  47.699167  POINT (-121.78333 47.69917)  \n",
      "\n",
      "[5 rows x 33 columns]\n"
     ]
    }
   ],
   "source": [
    "# EIA power plant data\n",
    "df_powerplants = gpd.read_file(\"https://services7.arcgis.com/FGr1D95XCGALKXqM/arcgis/rest/services/Power_Plants_Testing/FeatureServer/0/query?where=State%20%3D%20'WASHINGTON'&outFields=*&outSR=4326&f=json\")\n",
    "print(df_powerplants.head(5))"
   ]
  },
  {
   "cell_type": "code",
   "execution_count": 4,
   "id": "1bb234db-6a74-41f9-b2c7-335f0fc026c2",
   "metadata": {},
   "outputs": [],
   "source": [
    "# Overture \n",
    "db = dd.connect()\n",
    "db.execute(\"INSTALL spatial\")\n",
    "db.execute(\"INSTALL httpfs\")\n",
    "db.execute(\"\"\"\n",
    "LOAD spatial;\n",
    "LOAD httpfs;\n",
    "SET s3_region='us-west-2';\n",
    "\"\"\")\n",
    "\n",
    "db.sql(\"SET azure_storage_connection_string = 'DefaultEndpointsProtocol=https;AccountName=overturemapswestus2;AccountKey=;EndpointSuffix=core.windows.net';\")\n",
    "db.sql(\"\"\"\n",
    "COPY(\n",
    "  SELECT\n",
    "    id,\n",
    "    names.primary as primary_name,\n",
    "    subtype,\n",
    "    geometry\n",
    "  FROM read_parquet('azure://release/2024-09-18.0/theme=base/type=infrastructure/*', filename=true, hive_partitioning=1)\n",
    "  WHERE names.primary IS NOT NULL AND subtype = 'power'\n",
    "  AND bbox.xmin BETWEEN -124.763068 AND 45.54383071539715\n",
    "  AND bbox.ymin BETWEEN -116.9161607504075 AND 49.00240502974029\n",
    ") TO 'washington.geojson' WITH (FORMAT GDAL, DRIVER 'GeoJSON', SRS 'EPSG:4326');\n",
    "\"\"\")"
   ]
  },
  {
   "cell_type": "code",
   "execution_count": null,
   "id": "03c934fc-a690-4531-bbe5-dc019837b346",
   "metadata": {},
   "outputs": [],
   "source": [
    "gdf = gpd.read_file('washington.geojson')\n",
    "\n",
    "print(len(gdf)\n"
   ]
  }
 ],
 "metadata": {
  "kernelspec": {
   "display_name": "Python 3 (ipykernel)",
   "language": "python",
   "name": "python3"
  },
  "language_info": {
   "codemirror_mode": {
    "name": "ipython",
    "version": 3
   },
   "file_extension": ".py",
   "mimetype": "text/x-python",
   "name": "python",
   "nbconvert_exporter": "python",
   "pygments_lexer": "ipython3",
   "version": "3.12.4"
  }
 },
 "nbformat": 4,
 "nbformat_minor": 5
}
